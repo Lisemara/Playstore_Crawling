{
 "cells": [
  {
   "cell_type": "code",
   "execution_count": 1,
   "metadata": {},
   "outputs": [
    {
     "output_type": "stream",
     "name": "stdout",
     "text": [
      " * Serving Flask app \"__main__\" (lazy loading)\n",
      " * Environment: production\n",
      "   WARNING: This is a development server. Do not use it in a production deployment.\n",
      "   Use a production WSGI server instead.\n",
      " * Debug mode: off\n",
      " * Running on http://127.0.0.1:8000/ (Press CTRL+C to quit)\n",
      "127.0.0.1 - - [22/Mar/2021 12:45:34] \"\u001b[37mGET / HTTP/1.1\u001b[0m\" 200 -\n",
      "127.0.0.1 - - [22/Mar/2021 12:45:34] \"\u001b[37mGET /static/img/bgimage.png HTTP/1.1\u001b[0m\" 200 -\n",
      "q= 이게임 정말 재밌네요 하하하\n",
      "127.0.0.1 - - [22/Mar/2021 12:45:56] \"\u001b[37mGET /api?q=이게임%20정말%20재밌네요%20하하하 HTTP/1.1\u001b[0m\" 200 -\n"
     ]
    }
   ],
   "source": [
    "from flask import Flask, request, render_template\n",
    "import json\n",
    "import predict_keras\n",
    "import predict_Similarity\n",
    "\n",
    "# HTTP 서버 실행하기\n",
    "app = Flask(__name__)\n",
    "\n",
    "@app.route(\"/\", methods=['GET'])\n",
    "def home() :\n",
    "    return render_template('index.html')\n",
    "\n",
    "# # 루트에 접근할 경우 \n",
    "# @app.route('/', methods=['GET'])\n",
    "# def index():\n",
    "#     with open(\"index.html\", \"rb\") as f:\n",
    "#         return f.read()\n",
    "\n",
    "# /api에 접근할 경우\n",
    "@app.route('/api', methods=['GET'])\n",
    "def api():\n",
    "    \n",
    "    # URL 매개 변수 추출하기 \n",
    "    q = request.args.get('q', '')\n",
    "    if q == '':\n",
    "        return '{\"predict\": \"내용을 입력해주세요\", \"per\":0}'\n",
    "    print(\"q=\", q)    \n",
    "    \n",
    "    # 텍스트 카테고리 판별하기   \n",
    "    predict, per = predict_keras.check_review(q)\n",
    "    per = str(round(float(per), 4))\n",
    "\n",
    "    # 비슷한 리뷰 가져오기\n",
    "    reviews = predict_Similarity.similar_review(q)\n",
    "    \n",
    "    # 결과를 JSON으로 출력하기\n",
    "    return json.dumps({\n",
    "      \"per\": per,\n",
    "      \"predict\": predict,\n",
    "      \"review1\": reviews[0],\n",
    "      \"review2\": reviews[1],\n",
    "      \"review3\": reviews[2],\n",
    "      \"review4\": reviews[3],\n",
    "      \"review5\": reviews[4]\n",
    "    })\n",
    "\n",
    "if __name__ == \"__main__\":    \n",
    "    # 서버 실행하기\n",
    "    app.run(host=\"127.0.0.1\", port=\"8000\")"
   ]
  },
  {
   "cell_type": "code",
   "execution_count": 2,
   "metadata": {},
   "outputs": [
    {
     "data": {
      "text/plain": [
       "('부정 리뷰', 97.52386510372162)"
      ]
     },
     "execution_count": 2,
     "metadata": {},
     "output_type": "execute_result"
    }
   ],
   "source": [
    "import predict_keras\n",
    "\n",
    "# kalpa(리듬게임), 1점짜리\n",
    "text = '본인 리듬게임 3년차입니다. 뱅드림 육조년 익스 풀콤했습니다. 엄지유저와 초보자를 눈곱만큼도 배려하려고 하질 않네요. 전체적으로 모든 채보가 엄지유저에게 불리하게 되어있으며, 누가 입문자에게 좋을 것 같다 하셨는데 그것도 전혀 아닙니다. 본인 하드+까지 플레이해보았으나 그냥 답이 없다고 판단했습니다. 판정은 까다롭지, 노트속도를 최대까지 올리지 않으면 플레이도 버겁지, 다지유저들도 눈살 찌푸리게 할만한 채보가 넘쳐납니다. 대체 어떻게 플레이하라는 건지 도통 알 수가 없네요. 이게 혹시 인간이 아니라 AI를 위해 만든 리듬게임이면 이해해드리겠습니다. 적어도 일반적인 유저들이 다양하게 즐길 수 있도록 해야하는 게 아닌가요? 고인물, 썩은물, 다지유저에게 맞춰서 만들면 남은 유저들은 당연히 다른 게임으로 갈 수밖에 없습니다. 혹시 이걸 보고 계시는 입문자분, 초보자분이 있으시다면 뱅드림으로, 어느 정도 경력이 있는 다지유저분들은 이와 유사한 아르케아로 넘어가세요.'\n",
    "\n",
    "predict_keras.check_review(text)"
   ]
  },
  {
   "cell_type": "code",
   "execution_count": 3,
   "metadata": {},
   "outputs": [
    {
     "output_type": "execute_result",
     "data": {
      "text/plain": [
       "'완전 만족스러움, 시간가는 줄 모르겠어요'"
      ]
     },
     "metadata": {},
     "execution_count": 3
    }
   ],
   "source": [
    "import predict_Similarity\n",
    "text1 = \"\"\"\n",
    "게임 종료시 자잘한 소리가 지속적으로 나서 항상 앱 종료할 때마다 앱 자체를 완전히 종료해야 한다는 점을 제외한다면 전체적으로 만족스러움. 노트20ultra인데 렉이 약간 발생하나, 저장공간 관리를 하지 않은 내 탓 일 수도 있다 봄.\n",
    "\"\"\"\n",
    "final_result = predict_Similarity.similar_review(text1)\n",
    "final_result[0]"
   ]
  },
  {
   "cell_type": "code",
   "execution_count": 1,
   "metadata": {},
   "outputs": [
    {
     "output_type": "execute_result",
     "data": {
      "text/plain": [
       "'\\n리니지M 설치후 캐릭터 생성까지하고 재미가 없어서 지웠는데 아무것도 안누르고 결제하는거 아무것도 안했는데 11만원 결제됐는데, 이게 무슨 경우인가요ㅡㅡ? 당장 환불해주세요ㅡㅡ\\n'"
      ]
     },
     "metadata": {},
     "execution_count": 1
    }
   ],
   "source": [
    "import predict_Similarity\n",
    "text1 = \"\"\"\n",
    "리니지M 설치후 캐릭터 생성까지하고 재미가 없어서 지웠는데 아무것도 안누르고 결제하는거 아무것도 안했는데 11만원 결제됐는데, 이게 무슨 경우인가요ㅡㅡ? 당장 환불해주세요ㅡㅡ\n",
    "\"\"\"\n",
    "final_result = predict_Similarity.similar_review(text1)\n",
    "final_result[0]\n",
    "\n"
   ]
  }
 ],
 "metadata": {
  "kernelspec": {
   "name": "python3",
   "display_name": "Python 3.8.5 64-bit (conda)",
   "metadata": {
    "interpreter": {
     "hash": "6d46af94c2bbce495f1e668725902fa517c90b1782bcfe2fce0dd9868df553d3"
    }
   }
  },
  "language_info": {
   "codemirror_mode": {
    "name": "ipython",
    "version": 3
   },
   "file_extension": ".py",
   "mimetype": "text/x-python",
   "name": "python",
   "nbconvert_exporter": "python",
   "pygments_lexer": "ipython3",
   "version": "3.8.5-final"
  },
  "toc": {
   "base_numbering": 1,
   "nav_menu": {},
   "number_sections": true,
   "sideBar": true,
   "skip_h1_title": false,
   "title_cell": "Table of Contents",
   "title_sidebar": "Contents",
   "toc_cell": false,
   "toc_position": {},
   "toc_section_display": true,
   "toc_window_display": false
  }
 },
 "nbformat": 4,
 "nbformat_minor": 2
}