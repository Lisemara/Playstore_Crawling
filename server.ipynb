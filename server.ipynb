{
 "cells": [
  {
   "cell_type": "code",
   "execution_count": 5,
   "metadata": {},
   "outputs": [
    {
     "output_type": "error",
     "ename": "FileNotFoundError",
     "evalue": "[Errno 2] No such file or directory: 'stopwords.pickle'",
     "traceback": [
      "\u001b[1;31m---------------------------------------------------------------------------\u001b[0m",
      "\u001b[1;31mFileNotFoundError\u001b[0m                         Traceback (most recent call last)",
      "\u001b[1;32m<ipython-input-5-787524e7218e>\u001b[0m in \u001b[0;36m<module>\u001b[1;34m\u001b[0m\n\u001b[0;32m      1\u001b[0m \u001b[1;32mfrom\u001b[0m \u001b[0mflask\u001b[0m \u001b[1;32mimport\u001b[0m \u001b[0mFlask\u001b[0m\u001b[1;33m,\u001b[0m \u001b[0mrequest\u001b[0m\u001b[1;33m,\u001b[0m \u001b[0mrender_template\u001b[0m\u001b[1;33m\u001b[0m\u001b[1;33m\u001b[0m\u001b[0m\n\u001b[0;32m      2\u001b[0m \u001b[1;32mimport\u001b[0m \u001b[0mjson\u001b[0m\u001b[1;33m\u001b[0m\u001b[1;33m\u001b[0m\u001b[0m\n\u001b[1;32m----> 3\u001b[1;33m \u001b[1;32mimport\u001b[0m \u001b[0mpredict_keras\u001b[0m\u001b[1;33m\u001b[0m\u001b[1;33m\u001b[0m\u001b[0m\n\u001b[0m\u001b[0;32m      4\u001b[0m \u001b[1;33m\u001b[0m\u001b[0m\n\u001b[0;32m      5\u001b[0m \u001b[1;31m# HTTP 서버 실행하기\u001b[0m\u001b[1;33m\u001b[0m\u001b[1;33m\u001b[0m\u001b[1;33m\u001b[0m\u001b[0m\n",
      "\u001b[1;32mc:\\Users\\zebok\\OneDrive\\문서\\카카오톡 받은 파일\\미니프로젝트_temp\\라우트_html연결\\predict_keras.py\u001b[0m in \u001b[0;36m<module>\u001b[1;34m\u001b[0m\n\u001b[0;32m     32\u001b[0m \u001b[1;32mwith\u001b[0m \u001b[0mopen\u001b[0m\u001b[1;33m(\u001b[0m\u001b[1;34m'tokenizer.pickle'\u001b[0m\u001b[1;33m,\u001b[0m \u001b[1;34m'rb'\u001b[0m\u001b[1;33m)\u001b[0m \u001b[1;32mas\u001b[0m \u001b[0mhandle\u001b[0m\u001b[1;33m:\u001b[0m\u001b[1;33m\u001b[0m\u001b[1;33m\u001b[0m\u001b[0m\n\u001b[0;32m     33\u001b[0m     \u001b[0mtokenizer\u001b[0m \u001b[1;33m=\u001b[0m \u001b[0mpickle\u001b[0m\u001b[1;33m.\u001b[0m\u001b[0mload\u001b[0m\u001b[1;33m(\u001b[0m\u001b[0mhandle\u001b[0m\u001b[1;33m)\u001b[0m\u001b[1;33m\u001b[0m\u001b[1;33m\u001b[0m\u001b[0m\n\u001b[1;32m---> 34\u001b[1;33m \u001b[1;32mwith\u001b[0m \u001b[0mopen\u001b[0m\u001b[1;33m(\u001b[0m\u001b[1;34m'stopwords.pickle'\u001b[0m\u001b[1;33m,\u001b[0m \u001b[1;34m'rb'\u001b[0m\u001b[1;33m)\u001b[0m \u001b[1;32mas\u001b[0m \u001b[0mf\u001b[0m\u001b[1;33m:\u001b[0m\u001b[1;33m\u001b[0m\u001b[1;33m\u001b[0m\u001b[0m\n\u001b[0m\u001b[0;32m     35\u001b[0m     \u001b[0mstopwords\u001b[0m \u001b[1;33m=\u001b[0m \u001b[0mpickle\u001b[0m\u001b[1;33m.\u001b[0m\u001b[0mload\u001b[0m\u001b[1;33m(\u001b[0m\u001b[0mf\u001b[0m\u001b[1;33m)\u001b[0m\u001b[1;33m\u001b[0m\u001b[1;33m\u001b[0m\u001b[0m\n\u001b[0;32m     36\u001b[0m \u001b[0mmax_len\u001b[0m \u001b[1;33m=\u001b[0m \u001b[1;36m80\u001b[0m\u001b[1;33m\u001b[0m\u001b[1;33m\u001b[0m\u001b[0m\n",
      "\u001b[1;31mFileNotFoundError\u001b[0m: [Errno 2] No such file or directory: 'stopwords.pickle'"
     ]
    }
   ],
   "source": [
    "from flask import Flask, request, render_template\n",
    "import json\n",
    "import predict_keras\n",
    "\n",
    "# HTTP 서버 실행하기\n",
    "app = Flask(__name__)\n",
    "\n",
    "@app.route(\"/\", methods=['GET'])\n",
    "def home() :\n",
    "    return render_template('index.html')\n",
    "\n",
    "# # 루트에 접근할 경우 \n",
    "# @app.route('/', methods=['GET'])\n",
    "# def index():\n",
    "#     with open(\"index.html\", \"rb\") as f:\n",
    "#         return f.read()\n",
    "\n",
    "# /api에 접근할 경우\n",
    "@app.route('/api', methods=['GET'])\n",
    "def api():\n",
    "    \n",
    "    # URL 매개 변수 추출하기 \n",
    "    q = request.args.get('q', '')\n",
    "    if q == '':\n",
    "        return '{\"predict\": \"내용을 입력해주세요\", \"per\":0}'\n",
    "    print(\"q=\", q)    \n",
    "    \n",
    "    # 텍스트 카테고리 판별하기   \n",
    "    predict, per = predict_keras.check_review(q)\n",
    "    per = str(round(float(per), 4))\n",
    "    \n",
    "    # 결과를 JSON으로 출력하기\n",
    "    return json.dumps({\n",
    "      \"per\": per,\n",
    "      \"predict\": predict\n",
    "    })\n",
    "\n",
    "if __name__ == \"__main__\":    \n",
    "    # 서버 실행하기\n",
    "    app.run(host=\"127.0.0.1\", port=\"8000\")"
   ]
  },
  {
   "cell_type": "code",
   "execution_count": 2,
   "metadata": {},
   "outputs": [
    {
     "data": {
      "text/plain": [
       "('부정 리뷰', 97.52386510372162)"
      ]
     },
     "execution_count": 2,
     "metadata": {},
     "output_type": "execute_result"
    }
   ],
   "source": [
    "import predict_keras\n",
    "\n",
    "# kalpa(리듬게임), 1점짜리\n",
    "text = '본인 리듬게임 3년차입니다. 뱅드림 육조년 익스 풀콤했습니다. 엄지유저와 초보자를 눈곱만큼도 배려하려고 하질 않네요. 전체적으로 모든 채보가 엄지유저에게 불리하게 되어있으며, 누가 입문자에게 좋을 것 같다 하셨는데 그것도 전혀 아닙니다. 본인 하드+까지 플레이해보았으나 그냥 답이 없다고 판단했습니다. 판정은 까다롭지, 노트속도를 최대까지 올리지 않으면 플레이도 버겁지, 다지유저들도 눈살 찌푸리게 할만한 채보가 넘쳐납니다. 대체 어떻게 플레이하라는 건지 도통 알 수가 없네요. 이게 혹시 인간이 아니라 AI를 위해 만든 리듬게임이면 이해해드리겠습니다. 적어도 일반적인 유저들이 다양하게 즐길 수 있도록 해야하는 게 아닌가요? 고인물, 썩은물, 다지유저에게 맞춰서 만들면 남은 유저들은 당연히 다른 게임으로 갈 수밖에 없습니다. 혹시 이걸 보고 계시는 입문자분, 초보자분이 있으시다면 뱅드림으로, 어느 정도 경력이 있는 다지유저분들은 이와 유사한 아르케아로 넘어가세요.'\n",
    "\n",
    "predict_keras.check_review(text)"
   ]
  }
 ],
 "metadata": {
  "kernelspec": {
   "display_name": "python3.8.5 kernel",
   "language": "python",
   "name": "chris"
  },
  "language_info": {
   "codemirror_mode": {
    "name": "ipython",
    "version": 3
   },
   "file_extension": ".py",
   "mimetype": "text/x-python",
   "name": "python",
   "nbconvert_exporter": "python",
   "pygments_lexer": "ipython3",
   "version": "3.8.5-final"
  },
  "toc": {
   "base_numbering": 1,
   "nav_menu": {},
   "number_sections": true,
   "sideBar": true,
   "skip_h1_title": false,
   "title_cell": "Table of Contents",
   "title_sidebar": "Contents",
   "toc_cell": false,
   "toc_position": {},
   "toc_section_display": true,
   "toc_window_display": false
  }
 },
 "nbformat": 4,
 "nbformat_minor": 2
}