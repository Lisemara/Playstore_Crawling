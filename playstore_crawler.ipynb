{
 "metadata": {
  "language_info": {
   "codemirror_mode": {
    "name": "ipython",
    "version": 3
   },
   "file_extension": ".py",
   "mimetype": "text/x-python",
   "name": "python",
   "nbconvert_exporter": "python",
   "pygments_lexer": "ipython3",
   "version": "3.8.8-final"
  },
  "orig_nbformat": 2,
  "kernelspec": {
   "name": "python3",
   "display_name": "Python 3",
   "language": "python"
  }
 },
 "nbformat": 4,
 "nbformat_minor": 2,
 "cells": [
  {
   "source": [
    "# PlayStore Crawler\n",
    "## 날짜 : 2021-03-17 수요일\n",
    "## 저자 : 이준호, 최인서, 이승수, 영모\n",
    "### 참조 : https://signing.tistory.com/44?category=417668"
   ],
   "cell_type": "markdown",
   "metadata": {}
  },
  {
   "source": [
    "# 목차\n",
    "## 1. URL open, data crawling test\n",
    "## 2. 대규모 crawling, pandas에 넣기\n",
    "## 3. Data check 및 전처리\n",
    "## 4. Data csv file로 save"
   ],
   "cell_type": "markdown",
   "metadata": {}
  },
  {
   "source": [
    "## 1. URL open, data crawling test\n",
    "## !! URL 및 chromedriver path 수정하기 !!"
   ],
   "cell_type": "markdown",
   "metadata": {}
  },
  {
   "cell_type": "code",
   "execution_count": 65,
   "metadata": {},
   "outputs": [],
   "source": [
    "# selenium import\n",
    "from selenium import webdriver\n",
    "# !!수정하기!! 접속 시도하려는 URL 입력\n",
    "# url = 'https://play.google.com/store/apps/details?id=com.stx.pullhimout&showAllReviews=true'\n",
    "url = 'https://play.google.com/store/apps/details?id=com.epicactiononline.ffxv.ane&hl=ko&gl=US&showAllReviews=true'\n",
    "# !!수정하기!! 크롬 드라이버 경로\n",
    "# windows는 ./chromedriver.exe 로 수정\n",
    "driverPath = \"./chromedriver\" # Chrome Driver path\n",
    "driver = webdriver.Chrome(driverPath)   # Open Chrome \n",
    "driver.set_window_size(1400, 800)\n",
    "driver.get(url)"
   ]
  },
  {
   "cell_type": "code",
   "execution_count": 38,
   "metadata": {},
   "outputs": [],
   "source": [
    "# url = 'https://play.google.com/store/apps/details?id=com.devsisters.ck'\n",
    "# driver.get(url)"
   ]
  },
  {
   "cell_type": "code",
   "execution_count": 21,
   "metadata": {},
   "outputs": [],
   "source": [
    "# # 검색창에 게임 검색하기\n",
    "# name = '메이플스토리'\n",
    "# driver.find_element_by_xpath(\"//*[@id='gbqfq']\").send_keys(name)\n",
    "# driver.find_element_by_xpath(\"//*[@id='gbqfb']\").click()\n",
    "\n",
    "# # 검색창에 나온 앱중 가장 첫번째거 클릭하기\n",
    "# driver.find_element_by_xpath('//*[@id=\"fcxH9b\"]').click()"
   ]
  },
  {
   "cell_type": "code",
   "execution_count": null,
   "metadata": {},
   "outputs": [],
   "source": [
    "# 전체 리뷰 보기"
   ]
  },
  {
   "cell_type": "code",
   "execution_count": 66,
   "metadata": {},
   "outputs": [
    {
     "output_type": "stream",
     "name": "stdout",
     "text": [
      "리뷰 데이터: 시간을 아~주 오래들이면 노현질로도 충분히 즐길수있는게임 처음엔 약탈당하고 어려울수있으나 길드원들에게 도움청하면 아주잘 도와주심 무과금으로 1년 넘게해봤는데 충분히 싸우고 즐길수있음 요샌 이벤트를 퍼주고있어서 부계정 새로키웠는데 본계정만큼 크고있음ㅇㅅㅇ\n날짜 데이터: 2021년 2월 23일\n별점 데이터: 별표 5개 만점에 5개를 받았습니다.\n"
     ]
    }
   ],
   "source": [
    "# 리뷰 data를 xpath로 찾아서 긁어오기\n",
    "review = driver.find_element_by_xpath(\"//span[@jsname='bN97Pc']\")\n",
    "date = driver.find_element_by_xpath(\"//span[@class='p2TkOb']\")\n",
    "star = driver.find_element_by_xpath(\"//span[@class='nt2C1d']/div[@class='pf5lIe']/div[@role='img']\") \n",
    "\n",
    "# 읽어온 data 출력\n",
    "print(\"리뷰 데이터:\", review.text)\n",
    "print(\"날짜 데이터:\", date.text)\n",
    "print(\"별점 데이터:\", star.get_attribute('aria-label'))"
   ]
  },
  {
   "source": [
    "## 2. 대규모 crawling, pandas에 넣기"
   ],
   "cell_type": "markdown",
   "metadata": {}
  },
  {
   "cell_type": "code",
   "execution_count": 67,
   "metadata": {},
   "outputs": [],
   "source": [
    "# time 라이브러리 import\n",
    "import time\n",
    "SCROLL_PAUSE_TIME = 1.5\n",
    "last_height = driver.execute_script(\"return document.body.scrollHeight\")\n",
    "\n",
    "# review 긁어오는 횟수, count x 40개 긁어옴\n",
    "count = 12\n",
    "\n",
    "while count > 0:\n",
    "    # (1) 4번의 스크롤링\n",
    "    for i in range(5):\n",
    "        driver.execute_script(\"window.scrollTo(0, document.body.scrollHeight);\")\n",
    "        time.sleep(SCROLL_PAUSE_TIME)\n",
    "    # (2) 더보기 클릭\n",
    "    driver.find_element_by_xpath(\"//span[@class='RveJvd snByac']\").click()\n",
    "    # 카운트 세는 용도\n",
    "    count -= 1\n",
    "    # (3) 종료 조건\n",
    "    new_height = driver.execute_script(\"return document.body.scrollHeight\")\n",
    "    if new_height == last_height:\n",
    "        break\n",
    "    last_height = new_height"
   ]
  },
  {
   "cell_type": "code",
   "execution_count": 68,
   "metadata": {},
   "outputs": [],
   "source": [
    "# crawling data 불러오기\n",
    "reviews = driver.find_elements_by_xpath(\"//span[@jsname='bN97Pc']\")\n",
    "dates = driver.find_elements_by_xpath(\"//span[@class='p2TkOb']\")\n",
    "stars = driver.find_elements_by_xpath(\"//span[@class='nt2C1d']/div[@class='pf5lIe']/div[@role='img']\") "
   ]
  },
  {
   "cell_type": "code",
   "execution_count": 69,
   "metadata": {
    "tags": []
   },
   "outputs": [
    {
     "output_type": "execute_result",
     "data": {
      "text/plain": [
       "2000"
      ]
     },
     "metadata": {},
     "execution_count": 69
    }
   ],
   "source": [
    "# crawling data 길이 확인\n",
    "len(reviews)"
   ]
  },
  {
   "cell_type": "code",
   "execution_count": 70,
   "metadata": {},
   "outputs": [
    {
     "output_type": "execute_result",
     "data": {
      "text/plain": [
       "               DATE                  STAR  \\\n",
       "0      2021년 2월 23일  별표 5개 만점에 5개를 받았습니다.   \n",
       "1      2021년 1월 22일  별표 5개 만점에 1개를 받았습니다.   \n",
       "2      2021년 1월 16일  별표 5개 만점에 1개를 받았습니다.   \n",
       "3       2021년 2월 5일  별표 5개 만점에 2개를 받았습니다.   \n",
       "4      2021년 1월 16일  별표 5개 만점에 1개를 받았습니다.   \n",
       "...             ...                   ...   \n",
       "1995    2019년 3월 4일  별표 5개 만점에 3개를 받았습니다.   \n",
       "1996   2018년 11월 7일  별표 5개 만점에 1개를 받았습니다.   \n",
       "1997  2018년 12월 30일  별표 5개 만점에 1개를 받았습니다.   \n",
       "1998   2019년 1월 12일  별표 5개 만점에 1개를 받았습니다.   \n",
       "1999  2020년 12월 25일  별표 5개 만점에 3개를 받았습니다.   \n",
       "\n",
       "                                                 REVIEW  \n",
       "0     시간을 아~주 오래들이면 노현질로도 충분히 즐길수있는게임 처음엔 약탈당하고 어려울수...  \n",
       "1     혹여나 이벤 때문에 시작하려한다면, 하지마세요. 현질 유도게임입니다. 게임에 현질안...  \n",
       "2     돈없음 절대,절~~~대 할 수없는 게임...시작이 후회되는 게임입니다...길드가입해...  \n",
       "3     ㅋㅋ 게임 자체는 그냥 평범 그 자체인데 이벤트 돈 안줘서 평점 겁나 깎이네ㅋㅋㅋ ...  \n",
       "4     솔로이벤트 보상으로 모그리 크레딧이 계속 안들어오네요. 여태 못 받은것만 몇천 크레...  \n",
       "...                                                 ...  \n",
       "1995                            10레벨 달성했어요 카카오페이 왜 안줘여?  \n",
       "1996                            ㄹㅇ 카카오페이지아니였음 안했을 최악에게임  \n",
       "1997             성체10달성시 케쉬 증정한다던데 안주나요? 사기꾼들 아직 홍보하네..  \n",
       "1998                10레벨 올리면 한게임 21억 준다며 구라치지말고 21억 내놔라  \n",
       "1999                                              렉이 심함  \n",
       "\n",
       "[2000 rows x 3 columns]"
      ],
      "text/html": "<div>\n<style scoped>\n    .dataframe tbody tr th:only-of-type {\n        vertical-align: middle;\n    }\n\n    .dataframe tbody tr th {\n        vertical-align: top;\n    }\n\n    .dataframe thead th {\n        text-align: right;\n    }\n</style>\n<table border=\"1\" class=\"dataframe\">\n  <thead>\n    <tr style=\"text-align: right;\">\n      <th></th>\n      <th>DATE</th>\n      <th>STAR</th>\n      <th>REVIEW</th>\n    </tr>\n  </thead>\n  <tbody>\n    <tr>\n      <th>0</th>\n      <td>2021년 2월 23일</td>\n      <td>별표 5개 만점에 5개를 받았습니다.</td>\n      <td>시간을 아~주 오래들이면 노현질로도 충분히 즐길수있는게임 처음엔 약탈당하고 어려울수...</td>\n    </tr>\n    <tr>\n      <th>1</th>\n      <td>2021년 1월 22일</td>\n      <td>별표 5개 만점에 1개를 받았습니다.</td>\n      <td>혹여나 이벤 때문에 시작하려한다면, 하지마세요. 현질 유도게임입니다. 게임에 현질안...</td>\n    </tr>\n    <tr>\n      <th>2</th>\n      <td>2021년 1월 16일</td>\n      <td>별표 5개 만점에 1개를 받았습니다.</td>\n      <td>돈없음 절대,절~~~대 할 수없는 게임...시작이 후회되는 게임입니다...길드가입해...</td>\n    </tr>\n    <tr>\n      <th>3</th>\n      <td>2021년 2월 5일</td>\n      <td>별표 5개 만점에 2개를 받았습니다.</td>\n      <td>ㅋㅋ 게임 자체는 그냥 평범 그 자체인데 이벤트 돈 안줘서 평점 겁나 깎이네ㅋㅋㅋ ...</td>\n    </tr>\n    <tr>\n      <th>4</th>\n      <td>2021년 1월 16일</td>\n      <td>별표 5개 만점에 1개를 받았습니다.</td>\n      <td>솔로이벤트 보상으로 모그리 크레딧이 계속 안들어오네요. 여태 못 받은것만 몇천 크레...</td>\n    </tr>\n    <tr>\n      <th>...</th>\n      <td>...</td>\n      <td>...</td>\n      <td>...</td>\n    </tr>\n    <tr>\n      <th>1995</th>\n      <td>2019년 3월 4일</td>\n      <td>별표 5개 만점에 3개를 받았습니다.</td>\n      <td>10레벨 달성했어요 카카오페이 왜 안줘여?</td>\n    </tr>\n    <tr>\n      <th>1996</th>\n      <td>2018년 11월 7일</td>\n      <td>별표 5개 만점에 1개를 받았습니다.</td>\n      <td>ㄹㅇ 카카오페이지아니였음 안했을 최악에게임</td>\n    </tr>\n    <tr>\n      <th>1997</th>\n      <td>2018년 12월 30일</td>\n      <td>별표 5개 만점에 1개를 받았습니다.</td>\n      <td>성체10달성시 케쉬 증정한다던데 안주나요? 사기꾼들 아직 홍보하네..</td>\n    </tr>\n    <tr>\n      <th>1998</th>\n      <td>2019년 1월 12일</td>\n      <td>별표 5개 만점에 1개를 받았습니다.</td>\n      <td>10레벨 올리면 한게임 21억 준다며 구라치지말고 21억 내놔라</td>\n    </tr>\n    <tr>\n      <th>1999</th>\n      <td>2020년 12월 25일</td>\n      <td>별표 5개 만점에 3개를 받았습니다.</td>\n      <td>렉이 심함</td>\n    </tr>\n  </tbody>\n</table>\n<p>2000 rows × 3 columns</p>\n</div>"
     },
     "metadata": {},
     "execution_count": 70
    }
   ],
   "source": [
    "# crawling한 data를 pandas에 넣기\n",
    "import pandas as pd\n",
    "\n",
    "res_dict = [] \n",
    "for i in range(len(reviews)): \n",
    "    res_dict.append({ \n",
    "        'DATE' : dates[i].text,\n",
    "        'STAR' : stars[i].get_attribute('aria-label'), \n",
    "        'REVIEW' : reviews[i].text }) \n",
    "    res_df = pd.DataFrame(res_dict) \n",
    "\n",
    "# dataframe 확인\n",
    "res_df"
   ]
  },
  {
   "cell_type": "code",
   "execution_count": 71,
   "metadata": {},
   "outputs": [
    {
     "output_type": "execute_result",
     "data": {
      "text/plain": [
       "           DATE                  STAR  \\\n",
       "0  2021년 2월 23일  별표 5개 만점에 5개를 받았습니다.   \n",
       "1  2021년 1월 22일  별표 5개 만점에 1개를 받았습니다.   \n",
       "2  2021년 1월 16일  별표 5개 만점에 1개를 받았습니다.   \n",
       "3   2021년 2월 5일  별표 5개 만점에 2개를 받았습니다.   \n",
       "4  2021년 1월 16일  별표 5개 만점에 1개를 받았습니다.   \n",
       "\n",
       "                                              REVIEW  \n",
       "0  시간을 아~주 오래들이면 노현질로도 충분히 즐길수있는게임 처음엔 약탈당하고 어려울수...  \n",
       "1  혹여나 이벤 때문에 시작하려한다면, 하지마세요. 현질 유도게임입니다. 게임에 현질안...  \n",
       "2  돈없음 절대,절~~~대 할 수없는 게임...시작이 후회되는 게임입니다...길드가입해...  \n",
       "3  ㅋㅋ 게임 자체는 그냥 평범 그 자체인데 이벤트 돈 안줘서 평점 겁나 깎이네ㅋㅋㅋ ...  \n",
       "4  솔로이벤트 보상으로 모그리 크레딧이 계속 안들어오네요. 여태 못 받은것만 몇천 크레...  "
      ],
      "text/html": "<div>\n<style scoped>\n    .dataframe tbody tr th:only-of-type {\n        vertical-align: middle;\n    }\n\n    .dataframe tbody tr th {\n        vertical-align: top;\n    }\n\n    .dataframe thead th {\n        text-align: right;\n    }\n</style>\n<table border=\"1\" class=\"dataframe\">\n  <thead>\n    <tr style=\"text-align: right;\">\n      <th></th>\n      <th>DATE</th>\n      <th>STAR</th>\n      <th>REVIEW</th>\n    </tr>\n  </thead>\n  <tbody>\n    <tr>\n      <th>0</th>\n      <td>2021년 2월 23일</td>\n      <td>별표 5개 만점에 5개를 받았습니다.</td>\n      <td>시간을 아~주 오래들이면 노현질로도 충분히 즐길수있는게임 처음엔 약탈당하고 어려울수...</td>\n    </tr>\n    <tr>\n      <th>1</th>\n      <td>2021년 1월 22일</td>\n      <td>별표 5개 만점에 1개를 받았습니다.</td>\n      <td>혹여나 이벤 때문에 시작하려한다면, 하지마세요. 현질 유도게임입니다. 게임에 현질안...</td>\n    </tr>\n    <tr>\n      <th>2</th>\n      <td>2021년 1월 16일</td>\n      <td>별표 5개 만점에 1개를 받았습니다.</td>\n      <td>돈없음 절대,절~~~대 할 수없는 게임...시작이 후회되는 게임입니다...길드가입해...</td>\n    </tr>\n    <tr>\n      <th>3</th>\n      <td>2021년 2월 5일</td>\n      <td>별표 5개 만점에 2개를 받았습니다.</td>\n      <td>ㅋㅋ 게임 자체는 그냥 평범 그 자체인데 이벤트 돈 안줘서 평점 겁나 깎이네ㅋㅋㅋ ...</td>\n    </tr>\n    <tr>\n      <th>4</th>\n      <td>2021년 1월 16일</td>\n      <td>별표 5개 만점에 1개를 받았습니다.</td>\n      <td>솔로이벤트 보상으로 모그리 크레딧이 계속 안들어오네요. 여태 못 받은것만 몇천 크레...</td>\n    </tr>\n  </tbody>\n</table>\n</div>"
     },
     "metadata": {},
     "execution_count": 71
    }
   ],
   "source": [
    "# dataframe 확인\n",
    "res_df.head(5)"
   ]
  },
  {
   "source": [
    "## 3. Data check 및 전처리"
   ],
   "cell_type": "markdown",
   "metadata": {}
  },
  {
   "cell_type": "code",
   "execution_count": 72,
   "metadata": {},
   "outputs": [],
   "source": [
    "# 별점 data 숫자로 전처리하기\n",
    "df = []\n",
    "for i in range(len(res_df['STAR'])):\n",
    "    a = res_df['STAR'][i][10:11]\n",
    "    df.append(a)\n",
    "\n",
    "res_df['star'] = df\n",
    "res_df.drop('STAR', axis=1, inplace=True)"
   ]
  },
  {
   "cell_type": "code",
   "execution_count": 73,
   "metadata": {},
   "outputs": [],
   "source": [
    "# 날짜 data 전처리\n",
    "for i in range(len(res_df['DATE'])):\n",
    "    res_df['DATE'][i] = res_df['DATE'][i].replace('년 ', '-').replace('월 ', '-').replace('일', '')"
   ]
  },
  {
   "cell_type": "code",
   "execution_count": 74,
   "metadata": {},
   "outputs": [
    {
     "output_type": "execute_result",
     "data": {
      "text/plain": [
       "            DATE                                  REVIEW star\n",
       "1995    2019-3-4                 10레벨 달성했어요 카카오페이 왜 안줘여?    3\n",
       "1996   2018-11-7                 ㄹㅇ 카카오페이지아니였음 안했을 최악에게임    1\n",
       "1997  2018-12-30  성체10달성시 케쉬 증정한다던데 안주나요? 사기꾼들 아직 홍보하네..    1\n",
       "1998   2019-1-12     10레벨 올리면 한게임 21억 준다며 구라치지말고 21억 내놔라    1\n",
       "1999  2020-12-25                                   렉이 심함    3"
      ],
      "text/html": "<div>\n<style scoped>\n    .dataframe tbody tr th:only-of-type {\n        vertical-align: middle;\n    }\n\n    .dataframe tbody tr th {\n        vertical-align: top;\n    }\n\n    .dataframe thead th {\n        text-align: right;\n    }\n</style>\n<table border=\"1\" class=\"dataframe\">\n  <thead>\n    <tr style=\"text-align: right;\">\n      <th></th>\n      <th>DATE</th>\n      <th>REVIEW</th>\n      <th>star</th>\n    </tr>\n  </thead>\n  <tbody>\n    <tr>\n      <th>1995</th>\n      <td>2019-3-4</td>\n      <td>10레벨 달성했어요 카카오페이 왜 안줘여?</td>\n      <td>3</td>\n    </tr>\n    <tr>\n      <th>1996</th>\n      <td>2018-11-7</td>\n      <td>ㄹㅇ 카카오페이지아니였음 안했을 최악에게임</td>\n      <td>1</td>\n    </tr>\n    <tr>\n      <th>1997</th>\n      <td>2018-12-30</td>\n      <td>성체10달성시 케쉬 증정한다던데 안주나요? 사기꾼들 아직 홍보하네..</td>\n      <td>1</td>\n    </tr>\n    <tr>\n      <th>1998</th>\n      <td>2019-1-12</td>\n      <td>10레벨 올리면 한게임 21억 준다며 구라치지말고 21억 내놔라</td>\n      <td>1</td>\n    </tr>\n    <tr>\n      <th>1999</th>\n      <td>2020-12-25</td>\n      <td>렉이 심함</td>\n      <td>3</td>\n    </tr>\n  </tbody>\n</table>\n</div>"
     },
     "metadata": {},
     "execution_count": 74
    }
   ],
   "source": [
    "# 전처리 data 확인\n",
    "res_df.tail(5)"
   ]
  },
  {
   "source": [
    "## 4. Data csv file로 save\n",
    "## !! 따옴표 안에 게임 이름.csv로 변경 !!"
   ],
   "cell_type": "markdown",
   "metadata": {}
  },
  {
   "cell_type": "code",
   "execution_count": 75,
   "metadata": {},
   "outputs": [],
   "source": [
    "# data csv file로 저장\n",
    "# !! 따옴표 안에 게임 이름으로 변경 !!\n",
    "res_df.to_csv('ffxv.csv')"
   ]
  },
  {
   "cell_type": "code",
   "execution_count": 76,
   "metadata": {},
   "outputs": [],
   "source": [
    "# chrome driver 종료\n",
    "driver.close()"
   ]
  }
 ]
}